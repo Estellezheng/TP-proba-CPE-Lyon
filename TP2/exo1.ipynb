{
 "cells": [
  {
   "cell_type": "markdown",
   "metadata": {},
   "source": [
    "# TP2 - EXO1"
   ]
  },
  {
   "cell_type": "markdown",
   "metadata": {},
   "source": [
    "## Simulation des résultats de l'exo 10 chap 5"
   ]
  },
  {
   "cell_type": "markdown",
   "metadata": {},
   "source": [
    "Version empirique"
   ]
  },
  {
   "cell_type": "code",
   "execution_count": 161,
   "metadata": {},
   "outputs": [],
   "source": [
    "import numpy as np\n",
    "import matplotlib.pyplot as plt\n",
    "\n",
    "n = 8       #nmb de boules dans l'urne\n",
    "essais = 1000\n",
    "tab = []\n",
    "\n",
    "for k in range(1,essais) : # k est la valeur minimale entre 1 et n-1\n",
    "    boule1 = np.random.randint(1, n+1)\n",
    "    boule2 = np.random.randint(1, n+1)\n",
    "    while(boule1 == boule2) :\n",
    "        boule2 = np.random.randint(1, n+1)\n",
    "    k = min(boule1,boule2)\n",
    "    tab.append(k)"
   ]
  },
  {
   "cell_type": "markdown",
   "metadata": {},
   "source": [
    "Version théorique"
   ]
  },
  {
   "cell_type": "code",
   "execution_count": 162,
   "metadata": {},
   "outputs": [],
   "source": [
    "K = np.linspace(1, n, n)     #vecteur des k valeurs possible de X\n",
    "probth = []\n",
    "\n",
    "for i in K : # k est la valeur minimale entre 1 et n-1\n",
    "    probth.append(2*(n-i) / (n*(n-1)))"
   ]
  },
  {
   "cell_type": "markdown",
   "metadata": {},
   "source": [
    "Affichage"
   ]
  },
  {
   "cell_type": "code",
   "execution_count": 173,
   "metadata": {},
   "outputs": [
    {
     "data": {
      "image/png": "[encoded data removed]",
      "text/plain": [
       "<Figure size 640x480 with 1 Axes>"
      ]
     },
     "metadata": {},
     "output_type": "display_data"
    },
    {
     "name": "stdout",
     "output_type": "stream",
     "text": [
      "L'espérance math theorique de X est 3.0\n",
      "L'espérance math empirique de X est 3.023023023023023\n",
      "L'ecart type empirique de X est 1.7622644655434063\n"
     ]
    }
   ],
   "source": [
    "#theorique\n",
    "plt.bar(K, probth, color = \"red\", label = \"Theorique\")\n",
    "\n",
    "#empirique\n",
    "plt.hist(tab, bins=np.arange(1, n+1) - 0.5, density = True, width = 0.5, label = \"Empirique\")\n",
    "\n",
    "plt.legend()\n",
    "plt.show()\n",
    "\n",
    "print(\"L'espérance math theorique de X est\", np.sum(K * probth))\n",
    "print(\"L'espérance math empirique de X est\", np.mean(tab))\n",
    "print(\"L'ecart type empirique de X est\", np.std(tab))\n"
   ]
  },
  {
   "cell_type": "markdown",
   "metadata": {},
   "source": []
  }
 ],
 "metadata": {
  "kernelspec": {
   "display_name": "env_msi",
   "language": "python",
   "name": "python3"
  },
  "language_info": {
   "codemirror_mode": {
    "name": "ipython",
    "version": 3
   },
   "file_extension": ".py",
   "mimetype": "text/x-python",
   "name": "python",
   "nbconvert_exporter": "python",
   "pygments_lexer": "ipython3",
   "version": "3.11.9"
  }
 },
 "nbformat": 4,
 "nbformat_minor": 2
}
