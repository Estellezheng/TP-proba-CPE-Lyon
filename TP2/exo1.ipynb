{
 "cells": [
  {
   "cell_type": "markdown",
   "metadata": {},
   "source": [
    "# TP2 - EXO1"
   ]
  },
  {
   "cell_type": "markdown",
   "metadata": {},
   "source": [
    "## Simulation des résultats de l'exo 10 chap 5"
   ]
  },
  {
   "cell_type": "markdown",
   "metadata": {},
   "source": [
    "Soit 𝑛 ∈ℕ∗\\{1}. Une urne contient n boules numérotées de 1 à n. Un joueur extrait au hasard une poignée de 2 boules. On \n",
    "note 𝑋 la variable aléatoire égale au plus petit des numéros obtenus.  \n",
    "On a montré que la loi de probabilité de 𝑋 peut s’écrire : \n",
    "∀𝑘 ∈⟦1;𝑛−1⟧, 𝑃(𝑋 =𝑘)=2(𝑛−𝑘)/𝑛(𝑛−1) \n",
    "On a également montré que l’espérance mathématique et la variance de 𝑋 sont : \n",
    "𝐸(𝑋)=(𝑛+1)/3         et        𝑉(𝑋)=(𝑛2 −𝑛−2)/18   "
   ]
  },
  {
   "cell_type": "markdown",
   "metadata": {},
   "source": [
    "### Simulation empirique de la loi de X"
   ]
  },
  {
   "cell_type": "code",
   "execution_count": 6,
   "metadata": {},
   "outputs": [],
   "source": [
    "import numpy as np\n",
    "import matplotlib.pyplot as plt\n",
    "\n",
    "n = 8       #nmb de boules dans l'urne\n",
    "essais = 1000\n",
    "tab = []\n",
    "\n",
    "for k in range(1,essais) : \n",
    "    boule1 = np.random.randint(1, n+1)\n",
    "    boule2 = np.random.randint(1, n+1)\n",
    "    while(boule1 == boule2) :\n",
    "        boule2 = np.random.randint(1, n+1)      # les 2 boules sont diff puisque dans la meme urne\n",
    "    k = min(boule1,boule2)      # k est la valeur minimale entre les 2 boules\n",
    "    tab.append(k)               # tableau des valeurs min des 2 boules"
   ]
  },
  {
   "cell_type": "markdown",
   "metadata": {},
   "source": [
    "### Version théorique"
   ]
  },
  {
   "cell_type": "code",
   "execution_count": 16,
   "metadata": {},
   "outputs": [],
   "source": [
    "K = np.linspace(1, n, n)     #vecteur des n valeurs possibles\n",
    "\n",
    "# X suit une loi calculée dans le td\n",
    "probth = 2*(n-K) / (n*(n-1))"
   ]
  },
  {
   "cell_type": "markdown",
   "metadata": {},
   "source": [
    "### Affichage"
   ]
  },
  {
   "cell_type": "code",
   "execution_count": 20,
   "metadata": {},
   "outputs": [
    {
     "data": {
      "image/png": "[encoded data removed]",
      "text/plain": [
       "<Figure size 640x480 with 1 Axes>"
      ]
     },
     "metadata": {},
     "output_type": "display_data"
    }
   ],
   "source": [
    "#theorique\n",
    "plt.bar(K, probth, color = \"red\", label = \"Theorique\")\n",
    "\n",
    "#empirique\n",
    "plt.hist(tab, bins=np.arange(1, n+1) - 0.5, density = True, width = 0.5, label = \"Empirique\")\n",
    "\n",
    "plt.xlabel(\"k\")\n",
    "plt.ylabel(\"P(X=k)\")\n",
    "plt.legend()\n",
    "plt.show()"
   ]
  },
  {
   "cell_type": "markdown",
   "metadata": {},
   "source": [
    "### Conclusion"
   ]
  },
  {
   "cell_type": "code",
   "execution_count": 19,
   "metadata": {},
   "outputs": [
    {
     "name": "stdout",
     "output_type": "stream",
     "text": [
      "L'espérance math theorique de X est 3.0\n",
      "L'espérance math empirique de X est 3.065065065065065\n",
      "L'ecart type theorique de X est 1.7320508075688772\n",
      "L'ecart type empirique de X est 1.762349751728694\n"
     ]
    }
   ],
   "source": [
    "print(\"L'espérance math theorique de X est\", (n+1)/3)  #np.sum(K * probth)\n",
    "print(\"L'espérance math empirique de X est\", np.mean(tab))\n",
    "print(\"L'ecart type theorique de X est\", np.sqrt((n**2-n-2)/18))\n",
    "print(\"L'ecart type empirique de X est\", np.std(tab))"
   ]
  },
  {
   "cell_type": "markdown",
   "metadata": {},
   "source": []
  }
 ],
 "metadata": {
  "kernelspec": {
   "display_name": "env_msi",
   "language": "python",
   "name": "python3"
  },
  "language_info": {
   "codemirror_mode": {
    "name": "ipython",
    "version": 3
   },
   "file_extension": ".py",
   "mimetype": "text/x-python",
   "name": "python",
   "nbconvert_exporter": "python",
   "pygments_lexer": "ipython3",
   "version": "3.11.9"
  }
 },
 "nbformat": 4,
 "nbformat_minor": 2
}
