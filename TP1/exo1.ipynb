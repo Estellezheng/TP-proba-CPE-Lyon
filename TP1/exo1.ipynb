{
 "cells": [
  {
   "cell_type": "markdown",
   "metadata": {},
   "source": [
    "# TP1 - EXO1"
   ]
  },
  {
   "cell_type": "markdown",
   "metadata": {},
   "source": [
    "Est-il plus ou moins avantageux, lorsqu'on joue aux dés, de parier : \n",
    "- A : sur l'apparition d'au moins un 6 quand on lance 4 fois un dé : probabilité  supérieure  à  1/2.\n",
    "- B : sur l'apparition d'au moins un double-six, quand on lance 24 fois deux dés : proba  très  légèrement  inférieure  à  1/2  :  le  deuxième  jeu \n",
    "n'est pas avantageux ! \n",
    "\n",
    "Ecrire  un  programme  simulant  le  jeu  (A)  et  le  jeu  (B)  et  vérifier  que  le  premier  jeu  est  plus  avantageux  que  le  second"
   ]
  },
  {
   "cell_type": "markdown",
   "metadata": {},
   "source": [
    "### Definition expérience empirique"
   ]
  },
  {
   "cell_type": "code",
   "execution_count": 5,
   "metadata": {},
   "outputs": [],
   "source": [
    "import numpy as np\n",
    "import matplotlib.pyplot as plt\n",
    "\n",
    "# Simulation de N lancer d'un dé à 6 faces\n",
    "def lancer_de_6_faces(N):\n",
    "    return np.random.randint(1, 7, N) # array de N nmb aléatoires entre 1 et 6"
   ]
  },
  {
   "cell_type": "markdown",
   "metadata": {},
   "source": [
    "#### 1. Probabilité de l'evenement A "
   ]
  },
  {
   "cell_type": "code",
   "execution_count": 18,
   "metadata": {},
   "outputs": [
    {
     "name": "stdout",
     "output_type": "stream",
     "text": [
      "La probabilité de l'évenemnt A est 0.5068\n",
      "L'hypothèse est vérifiée, la probabilité d'obtenir au moins 6 en 4 lancés est supérieur à 1/2\n",
      "On reconnait une loi uniforme sur [1,6] avec une p = 0.16666666666666666\n"
     ]
    },
    {
     "data": {
      "image/png": "[encoded data removed]",
      "text/plain": [
       "<Figure size 640x480 with 1 Axes>"
      ]
     },
     "metadata": {},
     "output_type": "display_data"
    }
   ],
   "source": [
    "n = 10000   #nmb expériences\n",
    "cpt = 0\n",
    "resultats = []\n",
    "\n",
    "N = 4       # 4 lancer d'un dé\n",
    "for i in range(n) : \n",
    "    sim_4lancers = lancer_de_6_faces(N)\n",
    "    resultats.extend(sim_4lancers)  #pour l'histogramme\n",
    "    if max(sim_4lancers) == 6:\n",
    "        cpt += 1\n",
    "\n",
    "probA = cpt / n\n",
    "print(\"La probabilité de l'évenemnt A est\", probA)    \n",
    "print(\"L'hypothèse est vérifiée, la probabilité d'obtenir au moinsun  6 en 4 lancés est supérieur à 1/2\")\n",
    "\n",
    "plt.hist(resultats, bins=np.arange(1, 8) - 0.5, density=True)\n",
    "print(\"On reconnait une loi uniforme sur [1,6] avec une p =\", 1/6)"
   ]
  },
  {
   "cell_type": "markdown",
   "metadata": {},
   "source": [
    "#2 Vérification de l'hypothèse 2"
   ]
  },
  {
   "cell_type": "code",
   "execution_count": 6,
   "metadata": {},
   "outputs": [
    {
     "name": "stdout",
     "output_type": "stream",
     "text": [
      "La probabilité de l'évenemnt A est 0.4854\n",
      "L'hypothèse est vérifiée, la probabilité d'obtenir au moins un double-six en 24 lancés est inférieur à 1/2\n"
     ]
    }
   ],
   "source": [
    "n = 10000\n",
    "cpt = 0\n",
    "\n",
    "N = 24\n",
    "for i in range(n) : \n",
    "    Y = lancer_de_6_faces(N)\n",
    "    Z = lancer_de_6_faces(N)\n",
    "    if max(Y+Z) == 12:\n",
    "        cpt += 1\n",
    "\n",
    "probA = cpt / n\n",
    "print(\"La probabilité de l'évenemnt A est\", probA)    \n",
    "print(\"L'hypothèse est vérifiée, la probabilité d'obtenir au moins un double-six en 24 lancés est inférieur à 1/2\")"
   ]
  }
 ],
 "metadata": {
  "kernelspec": {
   "display_name": "env_msi",
   "language": "python",
   "name": "python3"
  },
  "language_info": {
   "codemirror_mode": {
    "name": "ipython",
    "version": 3
   },
   "file_extension": ".py",
   "mimetype": "text/x-python",
   "name": "python",
   "nbconvert_exporter": "python",
   "pygments_lexer": "ipython3",
   "version": "3.11.9"
  }
 },
 "nbformat": 4,
 "nbformat_minor": 2
}
