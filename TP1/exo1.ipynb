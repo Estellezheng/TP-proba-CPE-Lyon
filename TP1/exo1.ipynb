{
 "cells": [
  {
   "cell_type": "markdown",
   "metadata": {},
   "source": [
    "# TP1 - EXO1"
   ]
  },
  {
   "cell_type": "code",
   "execution_count": 3,
   "metadata": {},
   "outputs": [],
   "source": [
    "import numpy as np\n",
    "import matplotlib.pyplot as plt\n",
    "\n",
    "def lancer_de_6_faces(N):\n",
    "    return np.random.randint(1, 7, N) # array de N nombres aléatoires\n"
   ]
  },
  {
   "cell_type": "code",
   "execution_count": 4,
   "metadata": {},
   "outputs": [
    {
     "data": {
      "text/plain": [
       "(array([5., 2., 9., 8., 7., 9.]),\n",
       " array([0.5, 1.5, 2.5, 3.5, 4.5, 5.5, 6.5]),\n",
       " <BarContainer object of 6 artists>)"
      ]
     },
     "execution_count": 4,
     "metadata": {},
     "output_type": "execute_result"
    },
    {
     "data": {
      "image/png": "[encoded data removed]",
      "text/plain": [
       "<Figure size 640x480 with 1 Axes>"
      ]
     },
     "metadata": {},
     "output_type": "display_data"
    }
   ],
   "source": [
    "N = 40\n",
    "X = lancer_de_6_faces(N)\n",
    "\n",
    "plt.hist(X, bins=np.arange(1, 8) - 0.5)"
   ]
  },
  {
   "cell_type": "markdown",
   "metadata": {},
   "source": [
    "#1 Verification de la première hypothèse "
   ]
  },
  {
   "cell_type": "code",
   "execution_count": 5,
   "metadata": {},
   "outputs": [
    {
     "name": "stdout",
     "output_type": "stream",
     "text": [
      "La probabilité de l'évenemnt A est 0.5094\n",
      "L'hypothèse est vérifiée, la probabilité d'obtenir au moins 6 en 4 lancés est supérieur à 1/2\n"
     ]
    }
   ],
   "source": [
    "n = 10000\n",
    "cpt = 0\n",
    "\n",
    "N = 4\n",
    "for i in range(n) : \n",
    "    X = lancer_de_6_faces(N)\n",
    "    if max(X) == 6:\n",
    "        cpt += 1\n",
    "\n",
    "probA = cpt / n\n",
    "print(\"La probabilité de l'évenemnt A est\", probA)    \n",
    "print(\"L'hypothèse est vérifiée, la probabilité d'obtenir au moins 6 en 4 lancés est supérieur à 1/2\")"
   ]
  },
  {
   "cell_type": "markdown",
   "metadata": {},
   "source": [
    "#2 Vérification de l'hypothèse 2"
   ]
  },
  {
   "cell_type": "code",
   "execution_count": 6,
   "metadata": {},
   "outputs": [
    {
     "name": "stdout",
     "output_type": "stream",
     "text": [
      "La probabilité de l'évenemnt A est 0.4854\n",
      "L'hypothèse est vérifiée, la probabilité d'obtenir au moins un double-six en 24 lancés est inférieur à 1/2\n"
     ]
    }
   ],
   "source": [
    "n = 10000\n",
    "cpt = 0\n",
    "\n",
    "N = 24\n",
    "for i in range(n) : \n",
    "    Y = lancer_de_6_faces(N)\n",
    "    Z = lancer_de_6_faces(N)\n",
    "    if max(Y+Z) == 12:\n",
    "        cpt += 1\n",
    "\n",
    "probA = cpt / n\n",
    "print(\"La probabilité de l'évenemnt A est\", probA)    \n",
    "print(\"L'hypothèse est vérifiée, la probabilité d'obtenir au moins un double-six en 24 lancés est inférieur à 1/2\")"
   ]
  }
 ],
 "metadata": {
  "kernelspec": {
   "display_name": "env_msi",
   "language": "python",
   "name": "python3"
  },
  "language_info": {
   "codemirror_mode": {
    "name": "ipython",
    "version": 3
   },
   "file_extension": ".py",
   "mimetype": "text/x-python",
   "name": "python",
   "nbconvert_exporter": "python",
   "pygments_lexer": "ipython3",
   "version": "3.11.9"
  }
 },
 "nbformat": 4,
 "nbformat_minor": 2
}
